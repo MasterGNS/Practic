import numpy as np
import pandas as pd
import seaborn as sns
import matplotlib.pyplot as plt

#from mpl_toolkits.mplot3d import Axes3D
import datetime as dt
import plotly.graph_objects as go
import plotly.express as px
import plotly.figure_factory as ff

df = pd.read_csv("T1.csv")
df

df.info()

df['Date/Time'] = pd.to_datetime(df['Date/Time'], format='%d %m %Y %H:%M').dt.strftime('%b %d %H:%M:%S.%f')
df['Date/Time'] = df['Date/Time'].apply(lambda x: dt.datetime.strptime(x,'%b %d %H:%M:%S.%f') if type(x)==str else pd.NaT)
df.info()

df

df.describe().round(3)

df['Month'] = df['Date/Time'].dt.month

df

df['Day'] = df['Date/Time'].dt.day
df
