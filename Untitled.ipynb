import numpy as np
import pandas as pd
import seaborn as sns
import matplotlib.pyplot as plt

#from mpl_toolkits.mplot3d import Axes3D
import datetime as dt
import plotly.graph_objects as go
import plotly.express as px
import plotly.figure_factory as ff

df = pd.read_csv("T1.csv")
df

df.info()

df['Date/Time'] = pd.to_datetime(df['Date/Time'], format='%d %m %Y %H:%M').dt.strftime('%b %d %H:%M:%S.%f')
df['Date/Time'] = df['Date/Time'].apply(lambda x: dt.datetime.strptime(x,'%b %d %H:%M:%S.%f') if type(x)==str else pd.NaT)
df.info()

df

df.describe().round(3)

df['Month'] = df['Date/Time'].dt.month

df

df['Day'] = df['Date/Time'].dt.day
df

df_stats = df
shape_str= str(df_stats.shape)
leng = int(shape_str.replace('(', '').replace(')', '').replace(', 4', '').replace(', 7', ''))
for i in range(leng):
    if df['Wind Speed (m/s)'][i] > 3 and df['LV ActivePower (kW)'][i] == 0:
        df_stats = df_stats.drop(index=[i])
    elif df['Wind Speed (m/s)'][i] > 8 and df['LV ActivePower (kW)'][i] < 1000:
        df_stats = df_stats.drop(index=[i])
    elif df['Wind Speed (m/s)'][i] > 6.6 and df['LV ActivePower (kW)'][i] < 400:
        df_stats = df_stats.drop(index=[i])
    elif df['Wind Speed (m/s)'][i] > 10.8 and df['LV ActivePower (kW)'][i] < 2000:
        df_stats = df_stats.drop(index=[i])
    elif df['Wind Speed (m/s)'][i] > 11.8 and df['LV ActivePower (kW)'][i] < 2900:
        df_stats = df_stats.drop(index=[i])
    elif df['Wind Speed (m/s)'][i] > 12.5 and df['LV ActivePower (kW)'][i] < 3300:
        df_stats = df_stats.drop(index=[i])
    elif df['Wind Speed (m/s)'][i] > 9.9 and df['LV ActivePower (kW)'][i] < 2100:
        df_stats = df_stats.drop(index=[i])
df_stats = df_stats.reset_index(drop=True)
df_stats

group = df.groupby('Month').mean(numeric_only=True)
group

figure = px.line(df,
                x = 'Date/Time',
                y = 'LV ActivePower (kW)',
                labels = {'Date/Time' : 'Date'},
                title = 'Общая выработка мощности с января по декабрь'
)
figure.show()

figure = px.line(group,
                x = group.index,
                y = 'LV ActivePower (kW)',
                title = 'Выработка мощности по месяцам'
)
figure.show()

figure = px.box(df,
                x = 'Month',
                y = 'LV ActivePower (kW)',
                color='Month',
            labels = {"x" : "Месяцы"},
            title="Выработка электроэнергии по месяцам")
figure.show()

gr = df.groupby('Day').mean(numeric_only=True)
gr
